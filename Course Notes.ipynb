{
 "cells": [
  {
   "cell_type": "markdown",
   "metadata": {},
   "source": [
    "# The Modern Python 3 Bootcamp - Course Notes\n",
    "This is a Udemy course offered by Colt Steele. This notebook represents key concepts, exercises and scratch work."
   ]
  },
  {
   "cell_type": "markdown",
   "metadata": {},
   "source": [
    "## Section 2: Mac/Unix CLI"
   ]
  },
  {
   "cell_type": "markdown",
   "metadata": {},
   "source": [
    "`sed 's/dude/James/g' original-file.txt > new-file.txt` - replaces all instances of `dude` with `James`. The `/g` tag tells sed to do this for all occurrences. [Link to sed use-case examples](https://www.geeksforgeeks.org/sed-command-in-linux-unix-with-examples/)"
   ]
  },
  {
   "cell_type": "markdown",
   "metadata": {},
   "source": [
    "### Moving/Renaming Files with `mv`\n",
    "`mv` can either rename, relocate or do both.\n",
    "* `mv old-name.txt new_name.txt` - Renames file within same directory\n",
    "* `mv old-name.txt ../` - Movies the `old-name.txt` file back one directory level.\n",
    "    * `mv zebras/cat1.jpg cats/` - Movies `cat1.jpg` from `zebras` directory to the `cats` directory."
   ]
  },
  {
   "cell_type": "code",
   "execution_count": null,
   "metadata": {},
   "outputs": [],
   "source": []
  }
 ],
 "metadata": {
  "kernelspec": {
   "display_name": "Python 3",
   "language": "python",
   "name": "python3"
  },
  "language_info": {
   "codemirror_mode": {
    "name": "ipython",
    "version": 3
   },
   "file_extension": ".py",
   "mimetype": "text/x-python",
   "name": "python",
   "nbconvert_exporter": "python",
   "pygments_lexer": "ipython3",
   "version": "3.8.5"
  }
 },
 "nbformat": 4,
 "nbformat_minor": 4
}
